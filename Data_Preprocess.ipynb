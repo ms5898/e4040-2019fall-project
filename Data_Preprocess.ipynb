{
 "cells": [
  {
   "cell_type": "markdown",
   "metadata": {},
   "source": [
    "# Data Preprocess"
   ]
  },
  {
   "cell_type": "markdown",
   "metadata": {},
   "source": [
    "#### This notebook read the data from SVHN dataset, then do the preprocess to the data and save them as .mat format which will use later\n",
    "#### This following codes mainly devided into 2 parts:\n",
    "#### 1 Data Preprocess for training set\n",
    "#### 2 Data Preprocess for testing set"
   ]
  },
  {
   "cell_type": "markdown",
   "metadata": {},
   "source": [
    "#### Before running this notebook, please download the SVHN dataset from http://ufldl.stanford.edu/housenumbers/ \n",
    "\n",
    "SVHN is a real-world image dataset for developing machine learning and object recognition algorithms with minimal requirement on data preprocessing and formatting. It can be seen as similar in flavor to MNIST (e.g., the images are of small cropped digits), but incorporates an order of magnitude more labeled data (over 600,000 digit images) and comes from a significantly harder, unsolved, real world problem (recognizing digits and numbers in natural scene images). SVHN is obtained from house numbers in Google Street View images. \n",
    "\n",
    "#### The dataset is divided into two parts \n",
    "* Format 1: Full Numbers: train.tar.gz, test.tar.gz , extra.tar.gz (Note: for non-commercial use only)\n",
    "* Format 2: Cropped Digits: train_32x32.mat, test_32x32.mat , extra_32x32.mat (Note: for non-commercial use only)\n",
    "\n",
    "#### In this project we only use the first part, so you only need to download train.tar.gz, test.tar.gz from the Format 1\n",
    "\n",
    "These are the original, variable-resolution, color house-number images with character level bounding boxes, as shown in the examples images above. (The blue bounding boxes here are just for illustration purposes. The bounding box information are stored in digitStruct.mat instead of drawn directly on the images in the dataset.) Each tar.gz file contains the orignal images in png format, together with a digitStruct.mat file, which can be loaded using Matlab. The digitStruct.mat file contains a struct called digitStruct with the same length as the number of original images. Each element in digitStruct has the following fields: name which is a string containing the filename of the corresponding image. bbox which is a struct array that contains the position, size and label of each digit bounding box in the image. Eg: digitStruct(300).bbox(2).height gives height of the 2nd digit bounding box in the 300th image. "
   ]
  },
  {
   "cell_type": "markdown",
   "metadata": {},
   "source": [
    "## 1 Data Preprocess for Training Set"
   ]
  },
  {
   "cell_type": "markdown",
   "metadata": {},
   "source": [
    "### (1) Read image from SVHN dataset"
   ]
  },
  {
   "cell_type": "code",
   "execution_count": 1,
   "metadata": {},
   "outputs": [],
   "source": [
    "from utils.dataprocess import *\n",
    "from scipy import misc\n",
    "import glob\n",
    "import numpy as np\n",
    "import matplotlib.pyplot as plt\n",
    "import matplotlib.image as mpimg\n",
    "import matplotlib.patches as patches\n",
    "import scipy.io as scio\n",
    "import imageio\n",
    "import h5py\n",
    "import cv2\n",
    "import os\n",
    "import sys\n",
    "import gzip\n",
    "import gc "
   ]
  },
  {
   "cell_type": "markdown",
   "metadata": {},
   "source": [
    "#### Make sure you cange the folder_path to your local directory whre SVHN train saved"
   ]
  },
  {
   "cell_type": "code",
   "execution_count": 2,
   "metadata": {},
   "outputs": [],
   "source": [
    "folder_path = \"./train/\" #change that value before running\n",
    "img_type = \".png\"\n",
    "img_num = 33402\n",
    "X_train = read_from_folder(folder_path, img_type, img_num)"
   ]
  },
  {
   "cell_type": "markdown",
   "metadata": {},
   "source": [
    "show some image information in the dataset"
   ]
  },
  {
   "cell_type": "code",
   "execution_count": 3,
   "metadata": {},
   "outputs": [
    {
     "name": "stdout",
     "output_type": "stream",
     "text": [
      "X_train length 33401\n",
      "Every element in X_train is a image with different shape\n",
      "1.png shape (350, 741, 3)\n",
      "2.png shape (83, 199, 3)\n"
     ]
    }
   ],
   "source": [
    "print(\"X_train length {}\".format(len(X_train)))\n",
    "print(\"Every element in X_train is a image with different shape\")\n",
    "print(\"1.png shape {}\".format(X_train[0].shape))\n",
    "print(\"2.png shape {}\".format(X_train[1].shape))"
   ]
  },
  {
   "cell_type": "markdown",
   "metadata": {},
   "source": [
    "### (2) Crop the image to 54 x 54\n",
    "Based on the paper:\n",
    "We preprocess the dataset in the following way – first we find the small rectangular bounding box that will contain individual character bounding boxes. We then expand this bounding box by 30% in both the x and the y direction, crop the image to that bounding box and resize the crop to 64 × 64 pixels. We then crop a 54 × 54 pixel image from a random location within the 64 × 64 pixel image. This means we generated several randomly shifted versions of each training example, in order to increase the size of the dataset. "
   ]
  },
  {
   "cell_type": "code",
   "execution_count": 4,
   "metadata": {},
   "outputs": [],
   "source": [
    "mat_h5pyFile = h5py.File('./train/digitStruct.mat') #change that value before running\n",
    "X_train_crop = []\n",
    "X_train_label = []\n",
    "for i in range(img_num-1):\n",
    "    orig_image = np.array(X_train[i])\n",
    "    box_inf = get_image_box(i, mat_h5pyFile)\n",
    "    label = box_inf['label']\n",
    "    X_train_label.append(''.join(str(int(x%10)) for x in label)) #0->10; 1->1; 2->2; ...; 9->9\n",
    "    X_train_label.append(''.join(str(int(x%10)) for x in label)) #0->10; 1->1; 2->2; ...; 9->9\n",
    "    crop_imag, _ = image_crop(orig_image,box_inf)\n",
    "    #crop_resize_imag = cv2.resize(crop_imag, dsize=(54, 54), interpolation=cv2.INTER_CUBIC)\n",
    "    #crop_resize_imag2 = np.roll(crop_resize_imag, shift=(random.randint(0,7),random.randint(0,7)), axis=(0,1))\n",
    "    crop_resize_imag = cv2.resize(crop_imag, dsize=(64, 64), interpolation=cv2.INTER_CUBIC)\n",
    "    rand1 = random.randint(0,9)\n",
    "    rand2 = random.randint(0,9)\n",
    "    rand3 = random.randint(0,9)\n",
    "    rand4 = random.randint(0,9)\n",
    "    crop_resize_imag1 = crop_resize_imag[rand1: rand1+54, rand2: rand2+54, :]\n",
    "    crop_resize_imag2 = crop_resize_imag[rand3: rand3+54, rand4: rand4+54, :]\n",
    "    X_train_crop.append(crop_resize_imag1)     \n",
    "    X_train_crop.append(crop_resize_imag2)   "
   ]
  },
  {
   "cell_type": "markdown",
   "metadata": {},
   "source": [
    "### (3) Save the data to .mat file\n",
    "save the croped train images in to Xtrain.mat and the label of the images into Ytrain.mat\n",
    "\n",
    "change the X_train_mat Y_train_mat to where you want to save the .mat file"
   ]
  },
  {
   "cell_type": "code",
   "execution_count": 5,
   "metadata": {},
   "outputs": [],
   "source": [
    "X_train_mat = './Xtrain.mat' #change that value before running\n",
    "Y_train_mat = './Ytrain.mat' #change that value before running\n",
    "scio.savemat(X_train_mat, {'Xtrain':X_train_crop})\n",
    "scio.savemat(Y_train_mat, {'Ytrain':X_train_label})"
   ]
  },
  {
   "cell_type": "markdown",
   "metadata": {},
   "source": [
    "### (4) Show the result\n",
    "Red boxes are get from /train/digitStruct.mat blue box is the implementation of data preprocess from the paper: \"first we find the small rectangular bounding box that will contain individual character bounding boxes. We then expand this bounding box by 30% in both the x and the y direction\""
   ]
  },
  {
   "cell_type": "code",
   "execution_count": 6,
   "metadata": {},
   "outputs": [
    {
     "name": "stdout",
     "output_type": "stream",
     "text": [
      "Information get from the mat file: {'height': [35, 35, 35], 'left': [63, 91, 119], 'top': [13, 23, 34], 'width': [27, 28, 25], 'label': [2, 8, 10]}\n",
      "Value of the image is: 280\n"
     ]
    },
    {
     "data": {
      "text/plain": [
       "<matplotlib.patches.Rectangle at 0x14a032cf8>"
      ]
     },
     "execution_count": 6,
     "metadata": {},
     "output_type": "execute_result"
    },
    {
     "data": {
      "image/png": "[encoded data removed]",
      "text/plain": [
       "<Figure size 432x288 with 1 Axes>"
      ]
     },
     "metadata": {
      "needs_background": "light"
     },
     "output_type": "display_data"
    }
   ],
   "source": [
    "plt.imshow(X_train[215])\n",
    "box_show = get_image_box(215, mat_h5pyFile)\n",
    "print('Information get from the mat file: {}'.format(box_show))\n",
    "print('Value of the image is: {}'.format(''.join(str(int(x%10)) for x in box_show['label'])))\n",
    "currentAxis=plt.gca()\n",
    "rect1=patches.Rectangle((box_show['left'][0], box_show['top'][0]),box_show['width'][0] , box_show['height'][0],linewidth=1,edgecolor='r',facecolor='none')\n",
    "rect2=patches.Rectangle((box_show['left'][1], box_show['top'][1]),box_show['width'][1] , box_show['height'][1],linewidth=1,edgecolor='r',facecolor='none')\n",
    "rect3=patches.Rectangle((box_show['left'][2], box_show['top'][2]),box_show['width'][2] , box_show['height'][2],linewidth=1,edgecolor='r',facecolor='none')\n",
    "currentAxis.add_patch(rect1)\n",
    "currentAxis.add_patch(rect2)\n",
    "currentAxis.add_patch(rect3)\n",
    "crop_imag_show, image_crop_range_show = image_crop(np.array(X_train[215]),box_show)\n",
    "rect4=patches.Rectangle((51, 5),156-51, 77-5,linewidth=1,edgecolor='b',facecolor='none')\n",
    "currentAxis.add_patch(rect4)"
   ]
  },
  {
   "cell_type": "markdown",
   "metadata": {},
   "source": [
    "##### Crop to a 54 x 54 image"
   ]
  },
  {
   "cell_type": "code",
   "execution_count": 7,
   "metadata": {},
   "outputs": [
    {
     "data": {
      "text/plain": [
       "<matplotlib.image.AxesImage at 0x14c5db278>"
      ]
     },
     "execution_count": 7,
     "metadata": {},
     "output_type": "execute_result"
    },
    {
     "data": {
      "image/png": "[encoded data removed]",
      "text/plain": [
       "<Figure size 432x288 with 1 Axes>"
      ]
     },
     "metadata": {
      "needs_background": "light"
     },
     "output_type": "display_data"
    }
   ],
   "source": [
    "crop_resize_imag_show = cv2.resize(crop_imag_show, dsize=(54, 54), interpolation=cv2.INTER_CUBIC)\n",
    "plt.imshow(crop_resize_imag_show)"
   ]
  },
  {
   "cell_type": "code",
   "execution_count": 8,
   "metadata": {},
   "outputs": [],
   "source": [
    "%reset -f"
   ]
  },
  {
   "cell_type": "markdown",
   "metadata": {},
   "source": [
    "## 2 Data Preprocess for Testing Set\n",
    "The process of preprocess for Testing Set is the same as preprocess for Training Set"
   ]
  },
  {
   "cell_type": "markdown",
   "metadata": {},
   "source": [
    "### (1) Read image from SVHN dataset"
   ]
  },
  {
   "cell_type": "code",
   "execution_count": 14,
   "metadata": {},
   "outputs": [],
   "source": [
    "from utils.dataprocess import *\n",
    "from scipy import misc\n",
    "import glob\n",
    "import numpy as np\n",
    "import matplotlib.pyplot as plt\n",
    "import matplotlib.image as mpimg\n",
    "import matplotlib.patches as patches\n",
    "import scipy.io as scio\n",
    "import imageio\n",
    "import h5py\n",
    "import cv2\n",
    "import os\n",
    "import sys\n",
    "import gzip\n",
    "import gc "
   ]
  },
  {
   "cell_type": "code",
   "execution_count": 10,
   "metadata": {},
   "outputs": [],
   "source": [
    "folder_path = \"./test/\"\n",
    "img_type = \".png\"\n",
    "img_num = 13068\n",
    "X_test = read_from_folder(folder_path, img_type, img_num)"
   ]
  },
  {
   "cell_type": "code",
   "execution_count": 11,
   "metadata": {},
   "outputs": [
    {
     "name": "stdout",
     "output_type": "stream",
     "text": [
      "X_test length 13067\n",
      "Every element in X_test is a image with different shape\n",
      "1.png shape (47, 99, 3)\n",
      "2.png shape (48, 182, 3)\n"
     ]
    }
   ],
   "source": [
    "print(\"X_test length {}\".format(len(X_test)))\n",
    "print(\"Every element in X_test is a image with different shape\")\n",
    "print(\"1.png shape {}\".format(X_test[0].shape))\n",
    "print(\"2.png shape {}\".format(X_test[1].shape))"
   ]
  },
  {
   "cell_type": "markdown",
   "metadata": {},
   "source": [
    "### (2) Crop the image to 54 x 54"
   ]
  },
  {
   "cell_type": "code",
   "execution_count": 12,
   "metadata": {},
   "outputs": [],
   "source": [
    "mat_h5pyFile = h5py.File('./test/digitStruct.mat') #change that value before running\n",
    "X_test_crop = []\n",
    "X_test_label = []\n",
    "for i in range(img_num-1):\n",
    "    orig_image = np.array(X_test[i])\n",
    "    box_inf = get_image_box(i, mat_h5pyFile)\n",
    "    label = box_inf['label']\n",
    "    X_test_label.append(''.join(str(int(x%10)) for x in label)) #0->10; 1->1; 2->2; ...; 9->9\n",
    "    crop_imag, _ = image_crop(orig_image,box_inf)\n",
    "    crop_resize_imag = cv2.resize(crop_imag, dsize=(54, 54), interpolation=cv2.INTER_CUBIC)\n",
    "    X_test_crop.append(crop_resize_imag)     "
   ]
  },
  {
   "cell_type": "markdown",
   "metadata": {},
   "source": [
    "### (3) Save the data to .mat file"
   ]
  },
  {
   "cell_type": "code",
   "execution_count": 16,
   "metadata": {},
   "outputs": [],
   "source": [
    "X_test_mat = './Xtest.mat' #change that value before running\n",
    "Y_test_mat = './Ytest.mat' #change that value before running\n",
    "scio.savemat(X_test_mat, {'Xtest':X_test_crop})\n",
    "scio.savemat(Y_test_mat, {'Ytest':X_test_label})"
   ]
  }
 ],
 "metadata": {
  "kernelspec": {
   "display_name": "Python 3",
   "language": "python",
   "name": "python3"
  },
  "language_info": {
   "codemirror_mode": {
    "name": "ipython",
    "version": 3
   },
   "file_extension": ".py",
   "mimetype": "text/x-python",
   "name": "python",
   "nbconvert_exporter": "python",
   "pygments_lexer": "ipython3",
   "version": "3.6.9"
  }
 },
 "nbformat": 4,
 "nbformat_minor": 2
}
