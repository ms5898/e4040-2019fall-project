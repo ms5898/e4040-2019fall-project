{
 "cells": [
  {
   "cell_type": "markdown",
   "metadata": {},
   "source": [
    "# SVHN Classifier Use 11 Layers network"
   ]
  },
  {
   "cell_type": "markdown",
   "metadata": {},
   "source": [
    "This notebook do the following things:\n",
    "* Read data grom .mat files saved in the data preprcesss\n",
    "* train the network and save the best model\n",
    "* load the best model and run on the test set"
   ]
  },
  {
   "cell_type": "code",
   "execution_count": 2,
   "metadata": {},
   "outputs": [],
   "source": [
    "import tensorflow as tf\n",
    "import numpy as np\n",
    "import scipy.io as scio\n",
    "import matplotlib.pyplot as plt\n",
    "import matplotlib.image as mpimg"
   ]
  },
  {
   "cell_type": "code",
   "execution_count": 2,
   "metadata": {},
   "outputs": [],
   "source": [
    "num_training = 30060\n",
    "num_validation = 3340"
   ]
  },
  {
   "cell_type": "markdown",
   "metadata": {},
   "source": [
    "### 1 Read data and data process"
   ]
  },
  {
   "cell_type": "markdown",
   "metadata": {},
   "source": [
    "#### (1.1) Read the preprocessed data from .mat file"
   ]
  },
  {
   "cell_type": "code",
   "execution_count": 3,
   "metadata": {},
   "outputs": [],
   "source": [
    "X_train_mat = './Xtrain.mat'\n",
    "Y_train_mat = './Ytrain.mat'\n",
    "x_train_m = scio.loadmat(X_train_mat)\n",
    "y_train_m = scio.loadmat(Y_train_mat)"
   ]
  },
  {
   "cell_type": "code",
   "execution_count": 4,
   "metadata": {},
   "outputs": [],
   "source": [
    "x_train = x_train_m['Xtrain']\n",
    "y_train = y_train_m['Ytrain']"
   ]
  },
  {
   "cell_type": "code",
   "execution_count": 5,
   "metadata": {
    "scrolled": true
   },
   "outputs": [
    {
     "name": "stdout",
     "output_type": "stream",
     "text": [
      "data type of training set: <class 'numpy.ndarray'>\n",
      "shape of training set read from mat file: (33401, 54, 54, 3)\n",
      "data type of training set value: <class 'numpy.ndarray'>\n",
      "shape of training set value read from mat file: (33401,)\n"
     ]
    }
   ],
   "source": [
    "print('data type of training set: {}'.format(type(x_train)))\n",
    "print('shape of training set read from mat file: {}'.format(x_train.shape))\n",
    "print('data type of training set value: {}'.format(type(y_train)))\n",
    "print('shape of training set value read from mat file: {}'.format(y_train.shape))"
   ]
  },
  {
   "cell_type": "markdown",
   "metadata": {},
   "source": [
    "#### (1.2) get label_length, a 33401x7 np array from y_train"
   ]
  },
  {
   "cell_type": "code",
   "execution_count": 6,
   "metadata": {},
   "outputs": [],
   "source": [
    "label_length = np.zeros((y_train.shape[0], 7), dtype=int)\n",
    "for i in range(label_length.shape[0]):\n",
    "    label_num = int(y_train[i])\n",
    "    len_label = len(str(label_num))\n",
    "    if len_label > 5:\n",
    "        label_length[i][6] = 1\n",
    "    else:\n",
    "        label_length[i][len_label] = 1"
   ]
  },
  {
   "cell_type": "code",
   "execution_count": 7,
   "metadata": {},
   "outputs": [
    {
     "name": "stdout",
     "output_type": "stream",
     "text": [
      "data type of label_length: <class 'numpy.ndarray'>\n",
      "shape of label_length: (33401, 7)\n",
      "Show an example of label_length:\n",
      "the label of the first image is: 19    \n",
      "the length of that in label_length is: [0 0 1 0 0 0 0]\n",
      "the label of the 29404th image is: 202   \n",
      "the length of that in label_length is: [0 0 0 1 0 0 0]\n"
     ]
    }
   ],
   "source": [
    "print('data type of label_length: {}'.format(type(label_length)))\n",
    "print('shape of label_length: {}'.format(label_length.shape))\n",
    "print('Show an example of label_length:')\n",
    "print('the label of the first image is: {}'.format(y_train[0]))\n",
    "print('the length of that in label_length is: {}'.format(label_length[0]))\n",
    "print('the label of the 29404th image is: {}'.format(y_train[29403]))\n",
    "print('the length of that in label_length is: {}'.format(label_length[29403]))"
   ]
  },
  {
   "cell_type": "markdown",
   "metadata": {},
   "source": [
    "#### (1.3) get digits_labels, a 33401x5x11 np array from y_train"
   ]
  },
  {
   "cell_type": "code",
   "execution_count": 8,
   "metadata": {},
   "outputs": [],
   "source": [
    "digits_labels = np.zeros((y_train.shape[0], 5, 11), dtype=int)\n",
    "for i in range(digits_labels.shape[0]):\n",
    "    label_num = str(int(y_train[i]))\n",
    "    label_num_len = len(label_num)\n",
    "    if label_num_len <= 5:\n",
    "        for j in range(label_num_len):\n",
    "            digits_labels[i][j][int(label_num[j])] = 1\n",
    "        for l in range(label_num_len, 5):\n",
    "            digits_labels[i][l][10] = 1\n",
    "    else:\n",
    "        for j in range(5):\n",
    "            digits_labels[i][j][int(label_num[j])] = 1"
   ]
  },
  {
   "cell_type": "code",
   "execution_count": 9,
   "metadata": {},
   "outputs": [
    {
     "name": "stdout",
     "output_type": "stream",
     "text": [
      "data type of digits_labels: <class 'numpy.ndarray'>\n",
      "shape of digits_labels: (33401, 5, 11)\n",
      "Show an example of digits_labels:\n",
      "the label of the first image is: 19    \n",
      "the length of that in digits_labels is: \n",
      "[[0 1 0 0 0 0 0 0 0 0 0]\n",
      " [0 0 0 0 0 0 0 0 0 1 0]\n",
      " [0 0 0 0 0 0 0 0 0 0 1]\n",
      " [0 0 0 0 0 0 0 0 0 0 1]\n",
      " [0 0 0 0 0 0 0 0 0 0 1]]\n",
      "the label of the 29404th image is: 202   \n",
      "the length of that in digits_labels is: \n",
      "[[0 0 1 0 0 0 0 0 0 0 0]\n",
      " [1 0 0 0 0 0 0 0 0 0 0]\n",
      " [0 0 1 0 0 0 0 0 0 0 0]\n",
      " [0 0 0 0 0 0 0 0 0 0 1]\n",
      " [0 0 0 0 0 0 0 0 0 0 1]]\n"
     ]
    }
   ],
   "source": [
    "print('data type of digits_labels: {}'.format(type(digits_labels)))\n",
    "print('shape of digits_labels: {}'.format(digits_labels.shape))\n",
    "print('Show an example of digits_labels:')\n",
    "print('the label of the first image is: {}'.format(y_train[0]))\n",
    "print('the length of that in digits_labels is: \\n{}'.format(digits_labels[0]))\n",
    "print('the label of the 29404th image is: {}'.format(y_train[29403]))\n",
    "print('the length of that in digits_labels is: \\n{}'.format(digits_labels[29403]))"
   ]
  },
  {
   "cell_type": "markdown",
   "metadata": {},
   "source": [
    "#### (1.4) Split training set into training set and vaildation set"
   ]
  },
  {
   "cell_type": "code",
   "execution_count": 10,
   "metadata": {},
   "outputs": [],
   "source": [
    "x_val = x_train[num_training :num_training+num_validation, :]\n",
    "val_label = digits_labels[num_training :num_training+num_validation, :, :]\n",
    "val_label_length = label_length[num_training :num_training+num_validation, :]\n",
    "y_val = y_train[num_training :num_training+num_validation]\n",
    "\n",
    "x_train = x_train[0:num_training, :]\n",
    "train_label = digits_labels[0:num_training, :, :]\n",
    "train_label_length = label_length[0:num_training, :]\n",
    "y_train = y_train[0:num_training]"
   ]
  },
  {
   "cell_type": "markdown",
   "metadata": {},
   "source": [
    "#### (1.5) Show the result of data process"
   ]
  },
  {
   "cell_type": "code",
   "execution_count": 11,
   "metadata": {},
   "outputs": [
    {
     "name": "stdout",
     "output_type": "stream",
     "text": [
      "The shape of training set: (30060, 54, 54, 3) and the shape of validation set: (3340, 54, 54, 3)\n",
      "The shape of label of training set: (30060, 5, 11) and the shape of label of validation set: (3340, 5, 11)\n",
      "The shape of label length of training set: (30060, 7) and the shape of label length of validation set: (3340, 7)\n",
      "one image from training set:\n",
      "the label of that image is: 416   \n",
      "the label showed in matrix is: \n",
      "[[0 0 0 0 1 0 0 0 0 0 0]\n",
      " [0 1 0 0 0 0 0 0 0 0 0]\n",
      " [0 0 0 0 0 0 1 0 0 0 0]\n",
      " [0 0 0 0 0 0 0 0 0 0 1]\n",
      " [0 0 0 0 0 0 0 0 0 0 1]]\n",
      "the label length showed in matrix is: \n",
      "[0 0 0 1 0 0 0]\n"
     ]
    },
    {
     "data": {
      "image/png": "[encoded data removed]",
      "text/plain": [
       "<Figure size 432x288 with 1 Axes>"
      ]
     },
     "metadata": {
      "needs_background": "light"
     },
     "output_type": "display_data"
    }
   ],
   "source": [
    "print('The shape of training set: {} and the shape of validation set: {}'.format(x_train.shape, x_val.shape))\n",
    "print('The shape of label of training set: {} and the shape of label of validation set: {}'.format(train_label.shape, val_label.shape))\n",
    "print('The shape of label length of training set: {} and the shape of label length of validation set: {}'.format(train_label_length.shape, val_label_length.shape))\n",
    "print('one image from training set:')\n",
    "num = 30059\n",
    "plt.imshow(x_train[num])\n",
    "print('the label of that image is: {}'.format(y_train[num]))\n",
    "print('the label showed in matrix is: \\n{}'.format(train_label[num]))\n",
    "print('the label length showed in matrix is: \\n{}'.format(train_label_length[num]))"
   ]
  },
  {
   "cell_type": "code",
   "execution_count": 12,
   "metadata": {},
   "outputs": [
    {
     "name": "stdout",
     "output_type": "stream",
     "text": [
      "one image from validation set:\n",
      "the label of that image is: 223   \n",
      "the label showed in matrix is: \n",
      "[[0 0 1 0 0 0 0 0 0 0 0]\n",
      " [0 0 1 0 0 0 0 0 0 0 0]\n",
      " [0 0 0 1 0 0 0 0 0 0 0]\n",
      " [0 0 0 0 0 0 0 0 0 0 1]\n",
      " [0 0 0 0 0 0 0 0 0 0 1]]\n",
      "the label length showed in matrix is: \n",
      "[0 0 0 1 0 0 0]\n"
     ]
    },
    {
     "data": {
      "image/png": "[encoded data removed]",
      "text/plain": [
       "<Figure size 432x288 with 1 Axes>"
      ]
     },
     "metadata": {
      "needs_background": "light"
     },
     "output_type": "display_data"
    }
   ],
   "source": [
    "print('one image from validation set:')\n",
    "num = 0\n",
    "plt.imshow(x_val[num])\n",
    "print('the label of that image is: {}'.format(y_val[num]))\n",
    "print('the label showed in matrix is: \\n{}'.format(val_label[num]))\n",
    "print('the label length showed in matrix is: \\n{}'.format(val_label_length[num]))"
   ]
  },
  {
   "cell_type": "markdown",
   "metadata": {},
   "source": [
    "### 2 Train the model"
   ]
  },
  {
   "cell_type": "markdown",
   "metadata": {},
   "source": [
    "In this file, eleven layers of neural networks are used. The structure of the neural network is shown below\n",
    "* The input of the network with is an image with shape 54x54x3 \n",
    "* the outputs are 6 vectors (one with shape 1x7 which is the length of the output number and five with the shape 1x11 which are the number of each digits)\n",
    "![img](img/network_structure.png)"
   ]
  },
  {
   "cell_type": "code",
   "execution_count": 13,
   "metadata": {},
   "outputs": [
    {
     "name": "stdout",
     "output_type": "stream",
     "text": [
      "WARNING:tensorflow:From /home/ecbm4040/DL_PROJECT/utils/model4.py:8: conv2d (from tensorflow.python.layers.convolutional) is deprecated and will be removed in a future version.\n",
      "Instructions for updating:\n",
      "Use keras.layers.conv2d instead.\n",
      "WARNING:tensorflow:From /home/ecbm4040/miniconda3/envs/envTF113/lib/python3.6/site-packages/tensorflow/python/framework/op_def_library.py:263: colocate_with (from tensorflow.python.framework.ops) is deprecated and will be removed in a future version.\n",
      "Instructions for updating:\n",
      "Colocations handled automatically by placer.\n",
      "WARNING:tensorflow:From /home/ecbm4040/DL_PROJECT/utils/model4.py:9: batch_normalization (from tensorflow.python.layers.normalization) is deprecated and will be removed in a future version.\n",
      "Instructions for updating:\n",
      "Use keras.layers.batch_normalization instead.\n",
      "WARNING:tensorflow:From /home/ecbm4040/DL_PROJECT/utils/model4.py:11: max_pooling2d (from tensorflow.python.layers.pooling) is deprecated and will be removed in a future version.\n",
      "Instructions for updating:\n",
      "Use keras.layers.max_pooling2d instead.\n",
      "WARNING:tensorflow:From /home/ecbm4040/DL_PROJECT/utils/model4.py:12: dropout (from tensorflow.python.layers.core) is deprecated and will be removed in a future version.\n",
      "Instructions for updating:\n",
      "Use keras.layers.dropout instead.\n",
      "(?, 4, 4, 192)\n",
      "WARNING:tensorflow:From /home/ecbm4040/DL_PROJECT/utils/model4.py:76: dense (from tensorflow.python.layers.core) is deprecated and will be removed in a future version.\n",
      "Instructions for updating:\n",
      "Use keras.layers.dense instead.\n",
      "WARNING:tensorflow:From /home/ecbm4040/DL_PROJECT/utils/model4.py:108: softmax_cross_entropy_with_logits (from tensorflow.python.ops.nn_ops) is deprecated and will be removed in a future version.\n",
      "Instructions for updating:\n",
      "\n",
      "Future major versions of TensorFlow will allow gradients to flow\n",
      "into the labels input on backprop by default.\n",
      "\n",
      "See `tf.nn.softmax_cross_entropy_with_logits_v2`.\n",
      "\n",
      "number of batches for training: 1503\n",
      "epoch 1 \n",
      "=====is training=======\n",
      "=====is training=======\n",
      "=====is training=======\n",
      "=====is training=======\n",
      "=====is training=======\n",
      "=====is training=======\n",
      "=====is training=======\n",
      "=====is training=======\n",
      "=====is training=======\n",
      "=====is training=======\n",
      "Best validation accuracy! iteration:500 accuracy: 5.0%\n",
      "=====is training=======\n",
      "=====is training=======\n",
      "=====is training=======\n",
      "=====is training=======\n",
      "=====is training=======\n",
      "=====is training=======\n",
      "=====is training=======\n",
      "=====is training=======\n",
      "=====is training=======\n",
      "=====is training=======\n",
      "Best validation accuracy! iteration:1000 accuracy: 34.0%\n",
      "=====is training=======\n",
      "=====is training=======\n",
      "=====is training=======\n",
      "=====is training=======\n",
      "=====is training=======\n",
      "=====is training=======\n",
      "=====is training=======\n",
      "=====is training=======\n",
      "=====is training=======\n",
      "=====is training=======\n",
      "Best validation accuracy! iteration:1500 accuracy: 41.0%\n",
      "epoch 2 \n",
      "=====is training=======\n",
      "=====is training=======\n",
      "=====is training=======\n",
      "=====is training=======\n",
      "=====is training=======\n",
      "=====is training=======\n",
      "=====is training=======\n",
      "=====is training=======\n",
      "=====is training=======\n",
      "=====is training=======\n",
      "Best validation accuracy! iteration:2000 accuracy: 51.0%\n",
      "=====is training=======\n",
      "=====is training=======\n",
      "=====is training=======\n",
      "=====is training=======\n",
      "=====is training=======\n",
      "=====is training=======\n",
      "=====is training=======\n",
      "=====is training=======\n",
      "=====is training=======\n",
      "=====is training=======\n",
      "Best validation accuracy! iteration:2500 accuracy: 52.0%\n",
      "=====is training=======\n",
      "=====is training=======\n",
      "=====is training=======\n",
      "=====is training=======\n",
      "=====is training=======\n",
      "=====is training=======\n",
      "=====is training=======\n",
      "=====is training=======\n",
      "=====is training=======\n",
      "=====is training=======\n",
      "Best validation accuracy! iteration:3000 accuracy: 59.0%\n",
      "epoch 3 \n",
      "=====is training=======\n",
      "=====is training=======\n",
      "=====is training=======\n",
      "=====is training=======\n",
      "=====is training=======\n",
      "=====is training=======\n",
      "=====is training=======\n",
      "=====is training=======\n",
      "=====is training=======\n",
      "=====is training=======\n",
      "=====is training=======\n",
      "=====is training=======\n",
      "=====is training=======\n",
      "=====is training=======\n",
      "=====is training=======\n",
      "=====is training=======\n",
      "=====is training=======\n",
      "=====is training=======\n",
      "=====is training=======\n",
      "=====is training=======\n",
      "Best validation accuracy! iteration:4000 accuracy: 68.0%\n",
      "=====is training=======\n",
      "=====is training=======\n",
      "=====is training=======\n",
      "=====is training=======\n",
      "=====is training=======\n",
      "=====is training=======\n",
      "=====is training=======\n",
      "=====is training=======\n",
      "=====is training=======\n",
      "=====is training=======\n",
      "epoch 4 \n",
      "=====is training=======\n",
      "=====is training=======\n",
      "=====is training=======\n",
      "=====is training=======\n",
      "=====is training=======\n",
      "=====is training=======\n",
      "=====is training=======\n",
      "=====is training=======\n",
      "=====is training=======\n",
      "=====is training=======\n",
      "=====is training=======\n",
      "=====is training=======\n",
      "=====is training=======\n",
      "=====is training=======\n",
      "=====is training=======\n",
      "=====is training=======\n",
      "=====is training=======\n",
      "=====is training=======\n",
      "=====is training=======\n",
      "=====is training=======\n",
      "=====is training=======\n",
      "=====is training=======\n",
      "=====is training=======\n",
      "=====is training=======\n",
      "=====is training=======\n",
      "=====is training=======\n",
      "=====is training=======\n",
      "=====is training=======\n",
      "=====is training=======\n",
      "=====is training=======\n",
      "epoch 5 \n",
      "=====is training=======\n",
      "=====is training=======\n",
      "=====is training=======\n",
      "=====is training=======\n",
      "=====is training=======\n",
      "=====is training=======\n",
      "=====is training=======\n",
      "=====is training=======\n",
      "=====is training=======\n",
      "=====is training=======\n",
      "Best validation accuracy! iteration:6500 accuracy: 71.0%\n",
      "=====is training=======\n",
      "=====is training=======\n",
      "=====is training=======\n",
      "=====is training=======\n",
      "=====is training=======\n",
      "=====is training=======\n",
      "=====is training=======\n",
      "=====is training=======\n",
      "=====is training=======\n",
      "=====is training=======\n",
      "=====is training=======\n",
      "=====is training=======\n",
      "=====is training=======\n",
      "=====is training=======\n",
      "=====is training=======\n",
      "=====is training=======\n",
      "=====is training=======\n",
      "=====is training=======\n",
      "=====is training=======\n",
      "=====is training=======\n",
      "epoch 6 \n",
      "=====is training=======\n",
      "=====is training=======\n",
      "=====is training=======\n",
      "=====is training=======\n",
      "=====is training=======\n",
      "=====is training=======\n",
      "=====is training=======\n",
      "=====is training=======\n",
      "=====is training=======\n",
      "=====is training=======\n",
      "=====is training=======\n",
      "=====is training=======\n",
      "=====is training=======\n",
      "=====is training=======\n",
      "=====is training=======\n",
      "=====is training=======\n",
      "=====is training=======\n",
      "=====is training=======\n",
      "=====is training=======\n",
      "=====is training=======\n",
      "=====is training=======\n",
      "=====is training=======\n",
      "=====is training=======\n",
      "=====is training=======\n",
      "=====is training=======\n",
      "=====is training=======\n",
      "=====is training=======\n",
      "=====is training=======\n",
      "=====is training=======\n",
      "=====is training=======\n",
      "epoch 7 \n",
      "=====is training=======\n",
      "=====is training=======\n",
      "=====is training=======\n",
      "=====is training=======\n",
      "=====is training=======\n",
      "=====is training=======\n",
      "=====is training=======\n",
      "=====is training=======\n",
      "=====is training=======\n",
      "=====is training=======\n",
      "Best validation accuracy! iteration:9500 accuracy: 76.0%\n",
      "=====is training=======\n",
      "=====is training=======\n",
      "=====is training=======\n",
      "=====is training=======\n",
      "=====is training=======\n",
      "=====is training=======\n",
      "=====is training=======\n",
      "=====is training=======\n",
      "=====is training=======\n",
      "=====is training=======\n",
      "=====is training=======\n",
      "=====is training=======\n",
      "=====is training=======\n",
      "=====is training=======\n",
      "=====is training=======\n",
      "=====is training=======\n",
      "=====is training=======\n",
      "=====is training=======\n",
      "=====is training=======\n",
      "=====is training=======\n",
      "epoch 8 \n",
      "=====is training=======\n",
      "=====is training=======\n",
      "=====is training=======\n",
      "=====is training=======\n",
      "=====is training=======\n",
      "=====is training=======\n",
      "=====is training=======\n",
      "=====is training=======\n",
      "=====is training=======\n",
      "=====is training=======\n",
      "=====is training=======\n",
      "=====is training=======\n",
      "=====is training=======\n",
      "=====is training=======\n",
      "=====is training=======\n",
      "=====is training=======\n",
      "=====is training=======\n",
      "=====is training=======\n",
      "=====is training=======\n",
      "=====is training=======\n",
      "=====is training=======\n",
      "=====is training=======\n",
      "=====is training=======\n",
      "=====is training=======\n",
      "=====is training=======\n",
      "=====is training=======\n"
     ]
    },
    {
     "name": "stdout",
     "output_type": "stream",
     "text": [
      "=====is training=======\n",
      "=====is training=======\n",
      "=====is training=======\n",
      "=====is training=======\n",
      "epoch 9 \n",
      "=====is training=======\n",
      "=====is training=======\n",
      "=====is training=======\n",
      "=====is training=======\n",
      "=====is training=======\n",
      "=====is training=======\n",
      "=====is training=======\n",
      "=====is training=======\n",
      "=====is training=======\n",
      "=====is training=======\n",
      "=====is training=======\n",
      "=====is training=======\n",
      "=====is training=======\n",
      "=====is training=======\n",
      "=====is training=======\n",
      "=====is training=======\n",
      "=====is training=======\n",
      "=====is training=======\n",
      "=====is training=======\n",
      "=====is training=======\n",
      "Best validation accuracy! iteration:13000 accuracy: 80.0%\n",
      "=====is training=======\n",
      "=====is training=======\n",
      "=====is training=======\n",
      "=====is training=======\n",
      "=====is training=======\n",
      "=====is training=======\n",
      "=====is training=======\n",
      "=====is training=======\n",
      "=====is training=======\n",
      "=====is training=======\n",
      "epoch 10 \n",
      "=====is training=======\n",
      "=====is training=======\n",
      "=====is training=======\n",
      "=====is training=======\n",
      "=====is training=======\n",
      "=====is training=======\n",
      "=====is training=======\n",
      "=====is training=======\n",
      "=====is training=======\n",
      "=====is training=======\n",
      "=====is training=======\n",
      "=====is training=======\n",
      "=====is training=======\n",
      "=====is training=======\n",
      "=====is training=======\n",
      "=====is training=======\n",
      "=====is training=======\n",
      "=====is training=======\n",
      "=====is training=======\n",
      "=====is training=======\n",
      "=====is training=======\n",
      "=====is training=======\n",
      "=====is training=======\n",
      "=====is training=======\n",
      "=====is training=======\n",
      "=====is training=======\n",
      "=====is training=======\n",
      "=====is training=======\n",
      "=====is training=======\n",
      "=====is training=======\n",
      "epoch 11 \n",
      "=====is training=======\n",
      "=====is training=======\n",
      "=====is training=======\n",
      "=====is training=======\n",
      "=====is training=======\n",
      "=====is training=======\n",
      "=====is training=======\n",
      "=====is training=======\n",
      "=====is training=======\n",
      "=====is training=======\n",
      "=====is training=======\n",
      "=====is training=======\n",
      "=====is training=======\n",
      "=====is training=======\n",
      "=====is training=======\n",
      "=====is training=======\n",
      "=====is training=======\n",
      "=====is training=======\n",
      "=====is training=======\n",
      "=====is training=======\n",
      "=====is training=======\n",
      "=====is training=======\n",
      "=====is training=======\n",
      "=====is training=======\n",
      "=====is training=======\n",
      "=====is training=======\n",
      "=====is training=======\n",
      "=====is training=======\n",
      "=====is training=======\n",
      "=====is training=======\n",
      "epoch 12 \n",
      "=====is training=======\n",
      "=====is training=======\n",
      "=====is training=======\n",
      "=====is training=======\n",
      "=====is training=======\n",
      "=====is training=======\n",
      "=====is training=======\n",
      "=====is training=======\n",
      "=====is training=======\n",
      "=====is training=======\n",
      "=====is training=======\n",
      "=====is training=======\n",
      "=====is training=======\n",
      "=====is training=======\n",
      "=====is training=======\n",
      "=====is training=======\n",
      "=====is training=======\n",
      "=====is training=======\n",
      "=====is training=======\n",
      "=====is training=======\n",
      "=====is training=======\n",
      "=====is training=======\n",
      "=====is training=======\n",
      "=====is training=======\n",
      "=====is training=======\n",
      "=====is training=======\n",
      "=====is training=======\n",
      "=====is training=======\n",
      "=====is training=======\n",
      "=====is training=======\n",
      "epoch 13 \n",
      "=====is training=======\n",
      "=====is training=======\n",
      "=====is training=======\n",
      "=====is training=======\n",
      "=====is training=======\n",
      "=====is training=======\n",
      "=====is training=======\n",
      "=====is training=======\n",
      "=====is training=======\n",
      "=====is training=======\n",
      "=====is training=======\n",
      "=====is training=======\n",
      "=====is training=======\n",
      "=====is training=======\n",
      "=====is training=======\n",
      "=====is training=======\n",
      "=====is training=======\n",
      "=====is training=======\n",
      "=====is training=======\n",
      "=====is training=======\n",
      "=====is training=======\n",
      "=====is training=======\n",
      "=====is training=======\n",
      "=====is training=======\n",
      "=====is training=======\n",
      "=====is training=======\n",
      "=====is training=======\n",
      "=====is training=======\n",
      "=====is training=======\n",
      "=====is training=======\n",
      "epoch 14 \n",
      "=====is training=======\n",
      "=====is training=======\n",
      "=====is training=======\n",
      "=====is training=======\n",
      "=====is training=======\n",
      "=====is training=======\n",
      "=====is training=======\n",
      "=====is training=======\n",
      "=====is training=======\n",
      "=====is training=======\n",
      "=====is training=======\n",
      "=====is training=======\n",
      "=====is training=======\n",
      "=====is training=======\n",
      "=====is training=======\n",
      "=====is training=======\n",
      "=====is training=======\n",
      "=====is training=======\n",
      "=====is training=======\n",
      "=====is training=======\n",
      "=====is training=======\n",
      "=====is training=======\n",
      "=====is training=======\n",
      "=====is training=======\n",
      "=====is training=======\n",
      "=====is training=======\n",
      "=====is training=======\n",
      "=====is training=======\n",
      "=====is training=======\n",
      "=====is training=======\n",
      "epoch 15 \n",
      "=====is training=======\n",
      "=====is training=======\n",
      "=====is training=======\n",
      "=====is training=======\n",
      "=====is training=======\n",
      "=====is training=======\n",
      "=====is training=======\n",
      "=====is training=======\n",
      "=====is training=======\n",
      "=====is training=======\n",
      "=====is training=======\n",
      "=====is training=======\n",
      "=====is training=======\n",
      "=====is training=======\n",
      "=====is training=======\n",
      "=====is training=======\n",
      "=====is training=======\n",
      "=====is training=======\n",
      "=====is training=======\n",
      "=====is training=======\n",
      "=====is training=======\n",
      "=====is training=======\n",
      "=====is training=======\n",
      "=====is training=======\n",
      "=====is training=======\n",
      "=====is training=======\n",
      "=====is training=======\n",
      "=====is training=======\n",
      "=====is training=======\n",
      "=====is training=======\n",
      "Traning ends. The best valid accuracy is 80.0. Model named SVHNmodel_1575384291.\n"
     ]
    }
   ],
   "source": [
    "from utils.models.model11 import training\n",
    "training(x_train, train_label, train_label_length,\n",
    "             x_val, val_label, val_label_length,\n",
    "             learning_rate=1e-4,\n",
    "             batch_size=20,\n",
    "             drop_rate=0.2,\n",
    "             epoch=15)"
   ]
  },
  {
   "cell_type": "markdown",
   "metadata": {},
   "source": [
    "### 3 Get test data set from mat file"
   ]
  },
  {
   "cell_type": "code",
   "execution_count": 3,
   "metadata": {},
   "outputs": [],
   "source": [
    "X_test_mat = './Xtest.mat'\n",
    "Y_test_mat = './Ytest.mat'\n",
    "x_test_m = scio.loadmat(X_test_mat)\n",
    "y_test_m = scio.loadmat(Y_test_mat)\n",
    "x_test = x_test_m['Xtest']\n",
    "y_test = y_test_m['Ytest']"
   ]
  },
  {
   "cell_type": "code",
   "execution_count": 4,
   "metadata": {},
   "outputs": [
    {
     "name": "stdout",
     "output_type": "stream",
     "text": [
      "data type of test set: <class 'numpy.ndarray'>\n",
      "shape of test set read from mat file: (13067, 54, 54, 3)\n",
      "data type of test set value: <class 'numpy.ndarray'>\n",
      "shape of test set value read from mat file: (13067,)\n"
     ]
    }
   ],
   "source": [
    "print('data type of test set: {}'.format(type(x_test)))\n",
    "print('shape of test set read from mat file: {}'.format(x_test.shape))\n",
    "print('data type of test set value: {}'.format(type(y_test)))\n",
    "print('shape of test set value read from mat file: {}'.format(y_test.shape))"
   ]
  },
  {
   "cell_type": "code",
   "execution_count": 5,
   "metadata": {},
   "outputs": [],
   "source": [
    "label_length = np.zeros((y_test.shape[0], 7), dtype=int)\n",
    "for i in range(label_length.shape[0]):\n",
    "    label_num = int(y_test[i])\n",
    "    len_label = len(str(label_num))\n",
    "    if len_label > 5:\n",
    "        label_length[i][6] = 1\n",
    "    else:\n",
    "        label_length[i][len_label] = 1"
   ]
  },
  {
   "cell_type": "code",
   "execution_count": 6,
   "metadata": {},
   "outputs": [
    {
     "name": "stdout",
     "output_type": "stream",
     "text": [
      "data type of label_length: <class 'numpy.ndarray'>\n",
      "shape of label_length: (13067, 7)\n",
      "Show an example of label_length:\n",
      "the label of the first image is: 5    \n",
      "the length of that in label_length is: [0 1 0 0 0 0 0]\n",
      "the label of the 9404th image is: 17   \n",
      "the length of that in label_length is: [0 0 1 0 0 0 0]\n"
     ]
    }
   ],
   "source": [
    "print('data type of label_length: {}'.format(type(label_length)))\n",
    "print('shape of label_length: {}'.format(label_length.shape))\n",
    "print('Show an example of label_length:')\n",
    "print('the label of the first image is: {}'.format(y_test[0]))\n",
    "print('the length of that in label_length is: {}'.format(label_length[0]))\n",
    "print('the label of the 9404th image is: {}'.format(y_test[9403]))\n",
    "print('the length of that in label_length is: {}'.format(label_length[9403]))"
   ]
  },
  {
   "cell_type": "code",
   "execution_count": 7,
   "metadata": {},
   "outputs": [],
   "source": [
    "digits_labels = np.zeros((y_test.shape[0], 5, 11), dtype=int)\n",
    "for i in range(digits_labels.shape[0]):\n",
    "    label_num = str(int(y_test[i]))\n",
    "    label_num_len = len(label_num)\n",
    "    if label_num_len <= 5:\n",
    "        for j in range(label_num_len):\n",
    "            digits_labels[i][j][int(label_num[j])] = 1\n",
    "        for l in range(label_num_len, 5):\n",
    "            digits_labels[i][l][10] = 1\n",
    "    else:\n",
    "        for j in range(5):\n",
    "            digits_labels[i][j][int(label_num[j])] = 1"
   ]
  },
  {
   "cell_type": "code",
   "execution_count": 8,
   "metadata": {},
   "outputs": [
    {
     "name": "stdout",
     "output_type": "stream",
     "text": [
      "data type of digits_labels: <class 'numpy.ndarray'>\n",
      "shape of digits_labels: (13067, 5, 11)\n",
      "Show an example of digits_labels:\n",
      "the label of the first image is: 5    \n",
      "the length of that in digits_labels is: \n",
      "[[0 0 0 0 0 1 0 0 0 0 0]\n",
      " [0 0 0 0 0 0 0 0 0 0 1]\n",
      " [0 0 0 0 0 0 0 0 0 0 1]\n",
      " [0 0 0 0 0 0 0 0 0 0 1]\n",
      " [0 0 0 0 0 0 0 0 0 0 1]]\n",
      "the label of the 9404th image is: 17   \n",
      "the length of that in digits_labels is: \n",
      "[[0 1 0 0 0 0 0 0 0 0 0]\n",
      " [0 0 0 0 0 0 0 1 0 0 0]\n",
      " [0 0 0 0 0 0 0 0 0 0 1]\n",
      " [0 0 0 0 0 0 0 0 0 0 1]\n",
      " [0 0 0 0 0 0 0 0 0 0 1]]\n"
     ]
    }
   ],
   "source": [
    "print('data type of digits_labels: {}'.format(type(digits_labels)))\n",
    "print('shape of digits_labels: {}'.format(digits_labels.shape))\n",
    "print('Show an example of digits_labels:')\n",
    "print('the label of the first image is: {}'.format(y_test[0]))\n",
    "print('the length of that in digits_labels is: \\n{}'.format(digits_labels[0]))\n",
    "print('the label of the 9404th image is: {}'.format(y_test[9403]))\n",
    "print('the length of that in digits_labels is: \\n{}'.format(digits_labels[9403]))"
   ]
  },
  {
   "cell_type": "code",
   "execution_count": 9,
   "metadata": {},
   "outputs": [],
   "source": [
    "test_label = digits_labels\n",
    "test_label_length = label_length"
   ]
  },
  {
   "cell_type": "code",
   "execution_count": 10,
   "metadata": {},
   "outputs": [
    {
     "name": "stdout",
     "output_type": "stream",
     "text": [
      "The shape of test set: (13067, 54, 54, 3)\n",
      "The shape of label of training set: (13067, 5, 11)\n",
      "The shape of label length of training set: (13067, 7) \n",
      "one image from test set:\n",
      "the label of that image is: 208  \n",
      "the label showed in matrix is: \n",
      "[[0 0 1 0 0 0 0 0 0 0 0]\n",
      " [1 0 0 0 0 0 0 0 0 0 0]\n",
      " [0 0 0 0 0 0 0 0 1 0 0]\n",
      " [0 0 0 0 0 0 0 0 0 0 1]\n",
      " [0 0 0 0 0 0 0 0 0 0 1]]\n",
      "the label length showed in matrix is: \n",
      "[0 0 0 1 0 0 0]\n"
     ]
    },
    {
     "data": {
      "image/png": "[encoded data removed]",
      "text/plain": [
       "<Figure size 432x288 with 1 Axes>"
      ]
     },
     "metadata": {
      "needs_background": "light"
     },
     "output_type": "display_data"
    }
   ],
   "source": [
    "print('The shape of test set: {}'.format(x_test.shape))\n",
    "print('The shape of label of training set: {}'.format(test_label.shape))\n",
    "print('The shape of label length of training set: {} '.format(test_label_length.shape))\n",
    "print('one image from test set:')\n",
    "num = 1059\n",
    "plt.imshow(x_test[num])\n",
    "print('the label of that image is: {}'.format(y_test[num]))\n",
    "print('the label showed in matrix is: \\n{}'.format(test_label[num]))\n",
    "print('the label length showed in matrix is: \\n{}'.format(test_label_length[num]))"
   ]
  },
  {
   "cell_type": "markdown",
   "metadata": {},
   "source": [
    "### 4 Get network structure from the Tensorboard"
   ]
  },
  {
   "cell_type": "markdown",
   "metadata": {},
   "source": [
    "![img](img/tensorboard.png)"
   ]
  },
  {
   "cell_type": "markdown",
   "metadata": {},
   "source": [
    "### 5 load the best model from meta file\n",
    "* We trained multiple models, used data augmentation, and changed the network structure and number of parameters to optimize the results. \n",
    "* The result shown below is the best among these models"
   ]
  },
  {
   "cell_type": "code",
   "execution_count": 28,
   "metadata": {},
   "outputs": [
    {
     "name": "stdout",
     "output_type": "stream",
     "text": [
      "INFO:tensorflow:Restoring parameters from modelbest/SVHNmodel_1575510762\n",
      "inputs/input_x:0\n",
      "inputs/input_y:0\n",
      "inputs/label_length:0\n",
      "inputs/is_training:0\n",
      "Tensor(\"L/fc1/BiasAdd:0\", shape=(?, 7), dtype=float32)\n",
      "Tensor(\"S1/fc2/BiasAdd:0\", shape=(?, 11), dtype=float32)\n",
      "Tensor(\"S2/fc3/BiasAdd:0\", shape=(?, 11), dtype=float32)\n",
      "Tensor(\"S3/fc4/BiasAdd:0\", shape=(?, 11), dtype=float32)\n",
      "Tensor(\"S4/fc5/BiasAdd:0\", shape=(?, 11), dtype=float32)\n",
      "Tensor(\"S5/fc6/BiasAdd:0\", shape=(?, 11), dtype=float32)\n"
     ]
    }
   ],
   "source": [
    "tf.reset_default_graph()\n",
    "with tf.Session() as sess:\n",
    "    saver=tf.train.import_meta_graph('modelbest/SVHNmodel_1575510762.meta')\n",
    "    saver.restore(sess, tf.train.latest_checkpoint('modelbest/'))\n",
    "    graph=tf.get_default_graph()\n",
    "    tf_input1=graph.get_operations()[0].name+':0'\n",
    "    tf_input2=graph.get_operations()[1].name+':0'\n",
    "    tf_input3=graph.get_operations()[2].name+':0'\n",
    "    tf_input4=graph.get_operations()[3].name+':0'\n",
    "    \n",
    "    L=graph.get_tensor_by_name(\"L/fc1/BiasAdd:0\")\n",
    "    S1=graph.get_tensor_by_name(\"S1/fc2/BiasAdd:0\")\n",
    "    S2=graph.get_tensor_by_name(\"S2/fc3/BiasAdd:0\")\n",
    "    S3=graph.get_tensor_by_name(\"S3/fc4/BiasAdd:0\")\n",
    "    S4=graph.get_tensor_by_name(\"S4/fc5/BiasAdd:0\")\n",
    "    S5=graph.get_tensor_by_name(\"S5/fc6/BiasAdd:0\")\n",
    "    print(tf_input1)\n",
    "    print(tf_input2)\n",
    "    print(tf_input3)\n",
    "    print(tf_input4)\n",
    "    print(L)\n",
    "    print(S1)\n",
    "    print(S2)\n",
    "    print(S3)\n",
    "    print(S4)\n",
    "    print(S5)\n",
    "    Ly, Sy1, Sy2, Sy3, Sy4, Sy5=sess.run([L, S1, S2, S3, S4, S5], feed_dict={tf_input1:x_test[0:6000], tf_input3:test_label_length[0:6000]})   "
   ]
  },
  {
   "cell_type": "code",
   "execution_count": 29,
   "metadata": {},
   "outputs": [],
   "source": [
    "predit_label = np.stack([Sy1, Sy2, Sy3, Sy4, Sy5], axis=1)"
   ]
  },
  {
   "cell_type": "code",
   "execution_count": 30,
   "metadata": {},
   "outputs": [],
   "source": [
    "def matrix2num(matrix_label):\n",
    "    digit = np.argmax(matrix_label, axis=2) # n x 5\n",
    "    return digit"
   ]
  },
  {
   "cell_type": "code",
   "execution_count": 31,
   "metadata": {},
   "outputs": [],
   "source": [
    "output_label = matrix2num(predit_label)\n",
    "input_label = matrix2num(test_label)"
   ]
  },
  {
   "cell_type": "markdown",
   "metadata": {},
   "source": [
    "### 6 calculate the accuracy on test set "
   ]
  },
  {
   "cell_type": "code",
   "execution_count": 32,
   "metadata": {},
   "outputs": [],
   "source": [
    "error_num = 0\n",
    "for i in range(6000):\n",
    "    e = np.count_nonzero(output_label[i] - input_label[i])\n",
    "    if e != 0:\n",
    "        error_num += 1"
   ]
  },
  {
   "cell_type": "markdown",
   "metadata": {},
   "source": [
    "##### the test set is large, so devided into two subset to run the model"
   ]
  },
  {
   "cell_type": "code",
   "execution_count": 33,
   "metadata": {},
   "outputs": [
    {
     "name": "stdout",
     "output_type": "stream",
     "text": [
      "INFO:tensorflow:Restoring parameters from modelbest/SVHNmodel_1575510762\n"
     ]
    }
   ],
   "source": [
    "tf.reset_default_graph()\n",
    "with tf.Session() as sess:\n",
    "    saver=tf.train.import_meta_graph('modelbest/SVHNmodel_1575510762.meta')\n",
    "    saver.restore(sess, tf.train.latest_checkpoint('modelbest/'))\n",
    "    graph=tf.get_default_graph()\n",
    "    tf_input1=graph.get_operations()[0].name+':0'\n",
    "    tf_input2=graph.get_operations()[1].name+':0'\n",
    "    tf_input3=graph.get_operations()[2].name+':0'\n",
    "    tf_input4=graph.get_operations()[3].name+':0'\n",
    "    \n",
    "    L=graph.get_tensor_by_name(\"L/fc1/BiasAdd:0\")\n",
    "    S1=graph.get_tensor_by_name(\"S1/fc2/BiasAdd:0\")\n",
    "    S2=graph.get_tensor_by_name(\"S2/fc3/BiasAdd:0\")\n",
    "    S3=graph.get_tensor_by_name(\"S3/fc4/BiasAdd:0\")\n",
    "    S4=graph.get_tensor_by_name(\"S4/fc5/BiasAdd:0\")\n",
    "    S5=graph.get_tensor_by_name(\"S5/fc6/BiasAdd:0\")\n",
    "    Ly, Sy1, Sy2, Sy3, Sy4, Sy5=sess.run([L, S1, S2, S3, S4, S5], feed_dict={tf_input1:x_test[6000:12000], tf_input3:test_label_length[6000:12000]})   "
   ]
  },
  {
   "cell_type": "code",
   "execution_count": 34,
   "metadata": {},
   "outputs": [],
   "source": [
    "predit_label = np.stack([Sy1, Sy2, Sy3, Sy4, Sy5], axis=1)\n",
    "output_label = matrix2num(predit_label)\n",
    "input_label = matrix2num(test_label)\n",
    "for i in range(6000):\n",
    "    e = np.count_nonzero(output_label[i] - input_label[6000+i])\n",
    "    if e != 0:\n",
    "        error_num += 1"
   ]
  },
  {
   "cell_type": "markdown",
   "metadata": {},
   "source": [
    "### The final acc is:"
   ]
  },
  {
   "cell_type": "code",
   "execution_count": 35,
   "metadata": {},
   "outputs": [
    {
     "name": "stdout",
     "output_type": "stream",
     "text": [
      "The accuracy on test set is:80.29166666666667%\n"
     ]
    }
   ],
   "source": [
    "valid_acc = 100 - (error_num * 100)/12000 #13067\n",
    "print(\"The accuracy on test set is:{}%\".format(valid_acc))"
   ]
  }
 ],
 "metadata": {
  "kernelspec": {
   "display_name": "Python 3",
   "language": "python",
   "name": "python3"
  },
  "language_info": {
   "codemirror_mode": {
    "name": "ipython",
    "version": 3
   },
   "file_extension": ".py",
   "mimetype": "text/x-python",
   "name": "python",
   "nbconvert_exporter": "python",
   "pygments_lexer": "ipython3",
   "version": "3.6.9"
  }
 },
 "nbformat": 4,
 "nbformat_minor": 2
}
